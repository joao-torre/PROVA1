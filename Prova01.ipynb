{
 "cells": [
  {
   "cell_type": "code",
   "execution_count": 77,
   "id": "c72ca95e-9e88-4078-896b-cb708d5ddfd7",
   "metadata": {},
   "outputs": [
    {
     "name": "stdin",
     "output_type": "stream",
     "text": [
      "valor1:  100\n",
      "valor2:  150\n",
      "valor3:  300\n"
     ]
    },
    {
     "name": "stdout",
     "output_type": "stream",
     "text": [
      "O maior número é: 300\n",
      "O segundo maior número é: 150\n",
      "A média aritmética dos dois maiores números é: 225.0\n"
     ]
    }
   ],
   "source": [
    "numero1 = int(input(\"valor1: \"))\n",
    "numero2 = int(input(\"valor2: \"))\n",
    "numero3 = int(input(\"valor3: \"))\n",
    "\n",
    "numeros = [numero1, numero2, numero3]\n",
    "\n",
    "maior_numero = max(numeros)\n",
    "numeros.remove(maior_numero)\n",
    "segundo_maior_numero = max(numeros) \n",
    "\n",
    "media = (maior_numero + segundo_maior_numero) / 2\n",
    "\n",
    "print(f\"O maior número é: {maior_numero}\")\n",
    "print(f\"O segundo maior número é: {segundo_maior_numero}\")\n",
    "print(f\"A média aritmética dos dois maiores números é: {media}\")"
   ]
  },
  {
   "cell_type": "code",
   "execution_count": null,
   "id": "ec4766c8-8072-4422-b70e-821d58cb9bcd",
   "metadata": {},
   "outputs": [],
   "source": []
  }
 ],
 "metadata": {
  "kernelspec": {
   "display_name": "Python [conda env:base] *",
   "language": "python",
   "name": "conda-base-py"
  },
  "language_info": {
   "codemirror_mode": {
    "name": "ipython",
    "version": 3
   },
   "file_extension": ".py",
   "mimetype": "text/x-python",
   "name": "python",
   "nbconvert_exporter": "python",
   "pygments_lexer": "ipython3",
   "version": "3.12.7"
  }
 },
 "nbformat": 4,
 "nbformat_minor": 5
}
